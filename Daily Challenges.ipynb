{
 "cells": [
  {
   "cell_type": "markdown",
   "id": "ccd721d6",
   "metadata": {},
   "source": [
    "# Tuesday February 22, 2022\n",
    "\n",
    "###### You are given a string 's' representing an attendance record for a Coding Temple student where each character signifies whether the student was absent, late or present  on that day. the record only contains the following three letters:\n",
    "###### - 'A': Absent \n",
    "###### - 'L': Late \n",
    "###### - 'P': Present\n",
    " \n",
    "###### The student is eligible for an attendance award if they meet BOTH of the following criteria:\n",
    "###### - the student was absent ('A') strictly fewer than 2 days total \n",
    "###### - the student was never late ('L') for 3 or more consecutive days.\n",
    "\n",
    "###### Return true if the student is eligible for an attendance award, or false otherwise. "
   ]
  },
  {
   "cell_type": "code",
   "execution_count": 1,
   "id": "fd3c9c10",
   "metadata": {},
   "outputs": [
    {
     "data": {
      "text/plain": [
       "True"
      ]
     },
     "execution_count": 1,
     "metadata": {},
     "output_type": "execute_result"
    }
   ],
   "source": [
    "def attendance(s):\n",
    "    return s.count('A') < 2  and s.count('LLL') <1\n",
    "       \n",
    "s = \"PPALLP\"      \n",
    "attendance(s)"
   ]
  }
 ],
 "metadata": {
  "kernelspec": {
   "display_name": "Python 3 (ipykernel)",
   "language": "python",
   "name": "python3"
  },
  "language_info": {
   "codemirror_mode": {
    "name": "ipython",
    "version": 3
   },
   "file_extension": ".py",
   "mimetype": "text/x-python",
   "name": "python",
   "nbconvert_exporter": "python",
   "pygments_lexer": "ipython3",
   "version": "3.9.7"
  }
 },
 "nbformat": 4,
 "nbformat_minor": 5
}
